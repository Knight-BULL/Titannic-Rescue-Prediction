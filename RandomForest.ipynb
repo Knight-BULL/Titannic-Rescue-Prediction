{
 "cells": [
  {
   "cell_type": "code",
   "execution_count": 41,
   "metadata": {},
   "outputs": [],
   "source": [
    "import numpy as np\n",
    "import pandas as pd"
   ]
  },
  {
   "cell_type": "code",
   "execution_count": 42,
   "metadata": {},
   "outputs": [],
   "source": [
    "train = pd.read_csv(\"train.csv\")\n",
    "test = pd.read_csv(\"test.csv\")\n",
    "# train.info()"
   ]
  },
  {
   "cell_type": "code",
   "execution_count": 43,
   "metadata": {},
   "outputs": [],
   "source": [
    "# 数据填充和\n",
    "def harmonize_data(titanic):\n",
    "    titanic[\"Age\"] = titanic[\"Age\"].fillna(titanic[\"Age\"].median())\n",
    "    titanic[\"Fare\"] = titanic[\"Fare\"].fillna(titanic[\"Fare\"].median())\n",
    "    titanic.loc[titanic[\"Sex\"] == \"male\", \"Sex\"] = 0\n",
    "    titanic.loc[titanic[\"Sex\"] == \"female\", \"Sex\"] = 1\n",
    "    \n",
    "    titanic[\"Embarked\"] = titanic[\"Embarked\"].fillna(\"S\")\n",
    "    titanic.loc[titanic[\"Embarked\"] == \"S\", \"Embarked\"] = 0  \n",
    "    titanic.loc[titanic[\"Embarked\"] == \"C\", \"Embarked\"] = 1\n",
    "    titanic.loc[titanic[\"Embarked\"] == \"Q\", \"Embarked\"] = 2\n",
    "    return titanic\n",
    "\n",
    "predictors = [\"Pclass\", \"Sex\", \"Age\", \"SibSp\", \"Parch\", \"Fare\", \"Embarked\"]"
   ]
  },
  {
   "cell_type": "code",
   "execution_count": 44,
   "metadata": {},
   "outputs": [],
   "source": [
    "# harmonize_data(train)\n",
    "# print(train[\"Sex\"].unique())\n",
    "# print(train[\"Embarked\"].unique())\n",
    "# train.info()\n"
   ]
  },
  {
   "cell_type": "code",
   "execution_count": 45,
   "metadata": {},
   "outputs": [],
   "source": [
    "def create_submission(alg, train, test, predictors ,filename):\n",
    "    alg.fit(train[predictors], train[\"Survived\"])\n",
    "    predictions = alg.predict(test[predictors])\n",
    "    \n",
    "    submission = pd.DataFrame({\n",
    "        \"PassengerId\":test[\"PassengerId\"],\n",
    "        \"Survived\":predictions\n",
    "    })\n",
    "    submission.to_csv(filename, index = False)"
   ]
  },
  {
   "cell_type": "code",
   "execution_count": 46,
   "metadata": {},
   "outputs": [],
   "source": [
    "\n",
    "train_data = harmonize_data(train)\n",
    "test_data = harmonize_data(test)\n",
    "# train_data.info()\n",
    "# test_data.info()"
   ]
  },
  {
   "cell_type": "code",
   "execution_count": 47,
   "metadata": {},
   "outputs": [],
   "source": [
    "# 逻辑回归\n",
    "# from sklearn.linear_model import LogisticRegression\n",
    "# from sklearn import model_selection\n",
    "# alg  = LogisticRegression(random_state=1)\n",
    "# score =model_selection.cross_val_score(alg, \n",
    "#                                         train_data[predictors],\n",
    "#                                         train_data[\"Survived\"],\n",
    "#                                         cv= 3\n",
    "#                                        )\n",
    "# print(score.mean())                             "
   ]
  },
  {
   "cell_type": "code",
   "execution_count": 48,
   "metadata": {},
   "outputs": [
    {
     "name": "stdout",
     "output_type": "stream",
     "text": [
      "0.8204264870931538\n"
     ]
    }
   ],
   "source": [
    "from sklearn.ensemble import RandomForestClassifier\n",
    "from sklearn import model_selection\n",
    "alg = RandomForestClassifier(\n",
    "      random_state=1,\n",
    "      n_estimators = 150,\n",
    "      min_samples_split=4,\n",
    "      min_samples_leaf=2\n",
    "      )\n",
    "score =model_selection.cross_val_score(alg,\n",
    "                                        train_data[predictors],\n",
    "                                        train_data[\"Survived\"],\n",
    "                                         cv=3\n",
    "                                        )\n",
    "print(score.mean())"
   ]
  },
  {
   "cell_type": "code",
   "execution_count": 49,
   "metadata": {},
   "outputs": [],
   "source": [
    "# create_submission(alg, train_data, test_data, predictors, \"result_1.csv\")"
   ]
  }
 ],
 "metadata": {
  "kernelspec": {
   "display_name": "Python 3",
   "language": "python",
   "name": "python3"
  },
  "language_info": {
   "codemirror_mode": {
    "name": "ipython",
    "version": 3
   },
   "file_extension": ".py",
   "mimetype": "text/x-python",
   "name": "python",
   "nbconvert_exporter": "python",
   "pygments_lexer": "ipython3",
   "version": "3.6.4"
  }
 },
 "nbformat": 4,
 "nbformat_minor": 2
}
